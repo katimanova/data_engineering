{
 "cells": [
  {
   "cell_type": "markdown",
   "metadata": {},
   "source": [
    "### Векторизация всех документов"
   ]
  },
  {
   "cell_type": "code",
   "execution_count": null,
   "metadata": {},
   "outputs": [],
   "source": [
    "# импорт библиотек\n",
    "import json\n",
    "import uuid\n",
    "import torch\n",
    "\n",
    "from langchain_core.documents import Document\n",
    "from sentence_transformers import SentenceTransformer\n",
    "\n",
    "from qdrant_client import QdrantClient\n",
    "from qdrant_client.models import PointStruct, VectorParams"
   ]
  },
  {
   "cell_type": "code",
   "execution_count": 12,
   "metadata": {},
   "outputs": [
    {
     "name": "stdout",
     "output_type": "stream",
     "text": [
      "Загружено 2328 документов.\n"
     ]
    }
   ],
   "source": [
    "# загрузка заранее разбитых документов\n",
    "input_file_path = \"./processed_output/all_documents.json\"\n",
    "\n",
    "# Чтение данных из JSON\n",
    "with open(input_file_path, \"r\", encoding=\"utf-8\") as json_file:\n",
    "    data = json.load(json_file)\n",
    "\n",
    "# Восстановление массива объектов Document\n",
    "documents = [\n",
    "    Document(metadata=item[\"metadata\"], page_content=item[\"page_content\"])\n",
    "    for item in data\n",
    "]\n",
    "\n",
    "print(f\"Загружено {len(documents)} документов.\")"
   ]
  },
  {
   "cell_type": "code",
   "execution_count": 43,
   "metadata": {},
   "outputs": [
    {
     "name": "stdout",
     "output_type": "stream",
     "text": [
      "Устройство по умолчанию: cpu\n",
      "Устройство модели: mps:0\n"
     ]
    }
   ],
   "source": [
    "# Устройство по умолчанию для тензоров\n",
    "default_device = torch.device(\"cpu\")  # CPU используется по умолчанию\n",
    "print(f\"Устройство по умолчанию: {default_device}\")\n",
    "\n",
    "# Проверить, где находится модель\n",
    "model_name = \"deepvk/USER-bge-m3\"\n",
    "model = SentenceTransformer(model_name)\n",
    "print(f\"Устройство модели: {next(model.parameters()).device}\")"
   ]
  },
  {
   "cell_type": "code",
   "execution_count": 44,
   "metadata": {},
   "outputs": [
    {
     "name": "stdout",
     "output_type": "stream",
     "text": [
      "Модель переведена на MPS.\n"
     ]
    }
   ],
   "source": [
    "# Использование GPU через MPS (для macOS)\n",
    "if torch.backends.mps.is_available():\n",
    "    model.to(\"mps\")\n",
    "    print(\"Модель переведена на MPS.\")\n",
    "else:\n",
    "    print(\"MPS недоступен, используется CPU.\")"
   ]
  },
  {
   "cell_type": "code",
   "execution_count": 21,
   "metadata": {},
   "outputs": [
    {
     "data": {
      "text/plain": [
       "Document(metadata={'title': '6.8 Общая характеристика качества воды реки Кубани и её притоков', 'level': 2, 'parent_title': '6 Гидрологическая характеристика речного бассейна', 'start_page': 171, 'end_page': 172, 'file': 'Книга_1.json', 'basin': 'Кубань', 'chunk_index': 2, 'total_chunks': 2, 'order': 1600}, page_content='. Содержание ионов аммония и нитритов в воде р. Кубани и ее притоков не превышало Пдк ни в одном створе. Содержание ионов нитритов не превышало Пдк в верховьях реки до створа ниже г. Черкесска. В створе ниже г.Черкесска содержание азота нитритного составляло 1,9 Пдк и было максимальным по стволу р.Кубани. От ст. Беломечетской до г. Невинномысска концентрация азота нитритного в воде уменьшалась до значений ниже ПДКр. и была стабильна до г. Краснодара. От створа г.Краснодар, Тургеневский мост, где концентрация его увеличилась, содержание в воде составило 1,1 ПДКр. Азот нитриный присутствовал в каждом створе до Тиховского Г У, далее по руслу р.Кубани содержание снижалось и в устье не превышало нормативных значений. Характерными загрязняющими веществами в воде водных объектов бассейна, стабильно превышающими нормативы, являются медь, железо, марганец, нефтепродукты, в том числе вещества, эпизодически превышающие нормативы – органические вещества по БПК5, фенолы, ионы нитритов, цинк. Превышение концентраций железа, меди, марганца над рыбохозяйственными Пдк наблюдалось практически по всей длине водных объектов, максимальное')"
      ]
     },
     "execution_count": 21,
     "metadata": {},
     "output_type": "execute_result"
    }
   ],
   "source": [
    "documents[1599]"
   ]
  },
  {
   "cell_type": "code",
   "execution_count": 57,
   "metadata": {},
   "outputs": [
    {
     "name": "stdout",
     "output_type": "stream",
     "text": [
      "CPU times: user 33.8 ms, sys: 19.8 ms, total: 53.5 ms\n",
      "Wall time: 46.1 ms\n"
     ]
    }
   ],
   "source": [
    "%%time\n",
    "model.to(\"mps\")\n",
    "query = \"О чем говорится в Таблица 5.63? \"\n",
    "query_vector = model.encode(query).tolist()"
   ]
  },
  {
   "cell_type": "code",
   "execution_count": 59,
   "metadata": {},
   "outputs": [
    {
     "name": "stdout",
     "output_type": "stream",
     "text": [
      "CPU times: user 112 ms, sys: 95.9 ms, total: 208 ms\n",
      "Wall time: 186 ms\n"
     ]
    }
   ],
   "source": [
    "%%time\n",
    "model.to('cpu')\n",
    "query = \"О чем говорится в Таблица 5.63? \"\n",
    "query_vector = model.encode(query).tolist()"
   ]
  },
  {
   "cell_type": "markdown",
   "metadata": {},
   "source": [
    "### Векторизация "
   ]
  },
  {
   "cell_type": "code",
   "execution_count": 41,
   "metadata": {},
   "outputs": [
    {
     "data": {
      "text/plain": [
       "SentenceTransformer(\n",
       "  (0): Transformer({'max_seq_length': 8192, 'do_lower_case': False}) with Transformer model: XLMRobertaModel \n",
       "  (1): Pooling({'word_embedding_dimension': 1024, 'pooling_mode_cls_token': True, 'pooling_mode_mean_tokens': False, 'pooling_mode_max_tokens': False, 'pooling_mode_mean_sqrt_len_tokens': False, 'pooling_mode_weightedmean_tokens': False, 'pooling_mode_lasttoken': False, 'include_prompt': True})\n",
       "  (2): Normalize()\n",
       ")"
      ]
     },
     "execution_count": 41,
     "metadata": {},
     "output_type": "execute_result"
    }
   ],
   "source": [
    "# Модель для векторизации\n",
    "model_name = \"deepvk/USER-bge-m3\"\n",
    "model = SentenceTransformer(model_name)\n",
    "\n",
    "model.to('mps')"
   ]
  },
  {
   "cell_type": "code",
   "execution_count": 42,
   "metadata": {},
   "outputs": [
    {
     "data": {
      "text/plain": [
       "SentenceTransformer(\n",
       "  (0): Transformer({'max_seq_length': 8192, 'do_lower_case': False}) with Transformer model: XLMRobertaModel \n",
       "  (1): Pooling({'word_embedding_dimension': 1024, 'pooling_mode_cls_token': True, 'pooling_mode_mean_tokens': False, 'pooling_mode_max_tokens': False, 'pooling_mode_mean_sqrt_len_tokens': False, 'pooling_mode_weightedmean_tokens': False, 'pooling_mode_lasttoken': False, 'include_prompt': True})\n",
       "  (2): Normalize()\n",
       ")"
      ]
     },
     "execution_count": 42,
     "metadata": {},
     "output_type": "execute_result"
    }
   ],
   "source": [
    "model"
   ]
  },
  {
   "cell_type": "code",
   "execution_count": 26,
   "metadata": {},
   "outputs": [
    {
     "name": "stdout",
     "output_type": "stream",
     "text": [
      "Коллекция 'documents_collection' уже существует.\n"
     ]
    }
   ],
   "source": [
    "# Подключение к удалённому серверу Qdrant\n",
    "client = QdrantClient(url=\"http://192.168.137.253:6333\")\n",
    "\n",
    "# Модель для векторизации\n",
    "model_name = \"deepvk/USER-bge-m3\"\n",
    "model = SentenceTransformer(model_name)\n",
    "\n",
    "# Имя коллекции\n",
    "collection_name = \"documents_collection\"\n",
    "\n",
    "# Проверка или создание коллекции\n",
    "collections = client.get_collections().collections\n",
    "if not any(c.name == collection_name for c in collections):\n",
    "    vector_size = model.get_sentence_embedding_dimension()\n",
    "    client.create_collection(\n",
    "        collection_name=collection_name,\n",
    "        vectors_config=VectorParams(size=vector_size, distance=\"Cosine\"),\n",
    "    )\n",
    "    print(f\"Коллекция '{collection_name}' создана.\")\n",
    "else:\n",
    "    print(f\"Коллекция '{collection_name}' уже существует.\")"
   ]
  },
  {
   "cell_type": "code",
   "execution_count": 24,
   "metadata": {},
   "outputs": [],
   "source": [
    "documents_new = documents[1600:]"
   ]
  },
  {
   "cell_type": "code",
   "execution_count": 27,
   "metadata": {},
   "outputs": [
    {
     "name": "stdout",
     "output_type": "stream",
     "text": [
      "Добавлено 100 точек в коллекцию 'documents_collection'.\n",
      "Добавлено 100 точек в коллекцию 'documents_collection'.\n",
      "Добавлено 100 точек в коллекцию 'documents_collection'.\n",
      "Добавлено 100 точек в коллекцию 'documents_collection'.\n",
      "Добавлено 100 точек в коллекцию 'documents_collection'.\n",
      "Добавлено 100 точек в коллекцию 'documents_collection'.\n",
      "Добавлено 100 точек в коллекцию 'documents_collection'.\n",
      "Добавлено 28 точек в коллекцию 'documents_collection'.\n",
      "Все данные успешно загружены.\n"
     ]
    }
   ],
   "source": [
    "# Размер батча\n",
    "batch_size = 100\n",
    "\n",
    "# Загрузка данных в базу по мере обработки\n",
    "batch_points = []\n",
    "for idx, doc in enumerate(documents_new, start=1):\n",
    "    # Генерация вектора\n",
    "    vector = model.encode(doc.page_content).tolist()\n",
    "\n",
    "    # Создание структуры точки\n",
    "    point = PointStruct(\n",
    "        id=str(uuid.uuid4()),\n",
    "        vector=vector,\n",
    "        payload={\"content\": doc.page_content, **doc.metadata},\n",
    "    )\n",
    "    batch_points.append(point)\n",
    "\n",
    "    # Если накоплено достаточно точек, отправляем их в базу\n",
    "    if len(batch_points) >= batch_size:\n",
    "        client.upsert(collection_name=collection_name, points=batch_points)\n",
    "        print(f\"Добавлено {len(batch_points)} точек в коллекцию '{collection_name}'.\")\n",
    "        batch_points = []  # Очищаем батч\n",
    "\n",
    "# Загрузка оставшихся точек\n",
    "if batch_points:\n",
    "    client.upsert(collection_name=collection_name, points=batch_points)\n",
    "    print(f\"Добавлено {len(batch_points)} точек в коллекцию '{collection_name}'.\")\n",
    "\n",
    "print(\"Все данные успешно загружены.\")"
   ]
  },
  {
   "cell_type": "code",
   "execution_count": 3,
   "metadata": {},
   "outputs": [
    {
     "name": "stderr",
     "output_type": "stream",
     "text": [
      "/Users/anastasia/docs/Projects/skiovo_project/.venv/lib/python3.10/site-packages/tqdm/auto.py:21: TqdmWarning: IProgress not found. Please update jupyter and ipywidgets. See https://ipywidgets.readthedocs.io/en/stable/user_install.html\n",
      "  from .autonotebook import tqdm as notebook_tqdm\n"
     ]
    },
    {
     "name": "stdout",
     "output_type": "stream",
     "text": [
      "Score: 0.6145767\n",
      "Content: Продолжение таблицы 6.3\n",
      "ID: ce20db24-f76a-4a21-a446-9b3d70e34c8a\n",
      "----------------------------------------\n",
      "Score: 0.5854373\n",
      "Content: Продолжение таблицы 5.25\n",
      "ID: b26239eb-d2b9-4c6b-a904-60ebd3e5a53e\n",
      "----------------------------------------\n",
      "Score: 0.5854373\n",
      "Content: Продолжение таблицы 5.25\n",
      "ID: 62de426f-5c7b-41c5-b6ea-738b7d7df43c\n",
      "----------------------------------------\n",
      "Score: 0.54746294\n",
      "Content: Продолжение таблицы 8.3\n",
      "ID: 8c013ff2-8ec9-4e73-9aac-3159448e52a9\n",
      "----------------------------------------\n",
      "Score: 0.4918947\n",
      "Content: Таблица 5.3   Участок II  г.Лиски – г.Павловск, млн.м3\n",
      "ID: 9cfd5a67-8886-400e-893f-114e938c4ec9\n",
      "----------------------------------------\n"
     ]
    }
   ],
   "source": [
    "from qdrant_client import QdrantClient\n",
    "from sentence_transformers import SentenceTransformer\n",
    "\n",
    "# Подключение к удалённому серверу Qdrant\n",
    "client = QdrantClient(url=\"http://192.168.137.253:6333\")\n",
    "\n",
    "# Модель для векторизации\n",
    "model_name = \"deepvk/USER-bge-m3\"\n",
    "model = SentenceTransformer(model_name)\n",
    "\n",
    "query = \"О чем говорится в Таблица 5.63? \"\n",
    "query_vector = model.encode(query).tolist()\n",
    "\n",
    "# Поиск в каждой коллекции\n",
    "search_results = client.search(\n",
    "        collection_name='documents_collection',\n",
    "        query_vector=query_vector,\n",
    "        limit=5,\n",
    ")\n",
    "for result in search_results:\n",
    "    print(f\"Score: {result.score}\")\n",
    "    print(f\"Content: {result.payload['content']}\")\n",
    "    print(f\"ID: {result.id}\")\n",
    "    print(\"-\" * 40)"
   ]
  },
  {
   "cell_type": "code",
   "execution_count": 38,
   "metadata": {},
   "outputs": [
    {
     "name": "stdout",
     "output_type": "stream",
     "text": [
      "Score: 0.61457676\n",
      "Content: Продолжение таблицы 6.3\n",
      "ID: ce20db24-f76a-4a21-a446-9b3d70e34c8a\n",
      "Vector: [0.032952294, 0.020080041, -0.0089206435, 0.01283157, -0.0017048516, 0.0034097582, 0.036392625, -0.022825463, 0.003623623, -0.0049222913]...\n",
      "длина: 1024\n",
      "----------------------------------------\n",
      "Score: 0.58543724\n",
      "Content: Продолжение таблицы 5.25\n",
      "ID: b26239eb-d2b9-4c6b-a904-60ebd3e5a53e\n",
      "Vector: [0.0055511813, 0.0067154635, -0.019577155, 0.050584856, -0.007987044, 0.0055501712, 0.0013262462, 0.016454509, 0.011005821, 0.035359535]...\n",
      "длина: 1024\n",
      "----------------------------------------\n",
      "Score: 0.58543724\n",
      "Content: Продолжение таблицы 5.25\n",
      "ID: 62de426f-5c7b-41c5-b6ea-738b7d7df43c\n",
      "Vector: [0.0055511813, 0.0067154635, -0.019577155, 0.050584856, -0.007987044, 0.0055501712, 0.0013262462, 0.016454509, 0.011005821, 0.035359535]...\n",
      "длина: 1024\n",
      "----------------------------------------\n",
      "Score: 0.5474629\n",
      "Content: Продолжение таблицы 8.3\n",
      "ID: 8c013ff2-8ec9-4e73-9aac-3159448e52a9\n",
      "Vector: [-0.05333955, -0.006527533, -0.015620857, 0.011667891, -0.0054016523, -0.009516942, 0.025668267, -0.0029989677, -0.0019444891, 0.020523725]...\n",
      "длина: 1024\n",
      "----------------------------------------\n",
      "Score: 0.49189472\n",
      "Content: Таблица 5.3   Участок II  г.Лиски – г.Павловск, млн.м3\n",
      "ID: 9cfd5a67-8886-400e-893f-114e938c4ec9\n",
      "Vector: [0.01561194, 0.021181937, -0.022070311, 0.01547427, -0.01193388, 0.011726725, -0.02098955, 0.0034206149, 0.0052616135, -0.01005845]...\n",
      "длина: 1024\n",
      "----------------------------------------\n"
     ]
    }
   ],
   "source": [
    "# Ваш запрос\n",
    "query = \"О чем говорится в Таблица 5.63? \"\n",
    "query_vector = model.encode(query).tolist()\n",
    "\n",
    "# Поиск в коллекции\n",
    "search_results = client.search(\n",
    "    collection_name='documents_collection',\n",
    "    query_vector=query_vector,\n",
    "    limit=5,\n",
    ")\n",
    "\n",
    "# Обработка результатов\n",
    "for result in search_results:\n",
    "    print(f\"Score: {result.score}\")\n",
    "    print(f\"Content: {result.payload['content']}\")\n",
    "    print(f\"ID: {result.id}\")\n",
    "\n",
    "    # Извлечение вектора для данной точки\n",
    "    retrieved_point = client.retrieve(\n",
    "        collection_name='documents_collection',\n",
    "        ids=[result.id],  # ID точки\n",
    "        with_vectors=True,  # Включаем вектор\n",
    "        with_payload=False  # Метаданные уже есть\n",
    "    )\n",
    "    \n",
    "    # Проверка и вывод вектора\n",
    "    if retrieved_point:\n",
    "        vector = retrieved_point[0].vector\n",
    "        print(f\"Vector: {vector[:10]}...\")  # Вывод первых 10 элементов вектора для наглядности\n",
    "        print(f'длина: {len(vector)}')\n",
    "    else:\n",
    "        print(\"Vector not found.\")\n",
    "    print(\"-\" * 40)"
   ]
  }
 ],
 "metadata": {
  "kernelspec": {
   "display_name": ".venv",
   "language": "python",
   "name": "python3"
  },
  "language_info": {
   "codemirror_mode": {
    "name": "ipython",
    "version": 3
   },
   "file_extension": ".py",
   "mimetype": "text/x-python",
   "name": "python",
   "nbconvert_exporter": "python",
   "pygments_lexer": "ipython3",
   "version": "3.10.14"
  }
 },
 "nbformat": 4,
 "nbformat_minor": 2
}
